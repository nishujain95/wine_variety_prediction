{
 "cells": [
  {
   "cell_type": "code",
   "execution_count": 1,
   "metadata": {
    "collapsed": true
   },
   "outputs": [],
   "source": [
    "import pandas as pd\n",
    "import numpy as np\n",
    "import matplotlib.pyplot as plt\n",
    "import seaborn as sns\n",
    "% matplotlib inline"
   ]
  },
  {
   "cell_type": "code",
   "execution_count": 2,
   "metadata": {
    "collapsed": true
   },
   "outputs": [],
   "source": [
    "df = pd.read_csv(r'...\\Data\\train.csv')"
   ]
  },
  {
   "cell_type": "code",
   "execution_count": 3,
   "metadata": {},
   "outputs": [
    {
     "data": {
      "text/html": [
       "<div>\n",
       "<style>\n",
       "    .dataframe thead tr:only-child th {\n",
       "        text-align: right;\n",
       "    }\n",
       "\n",
       "    .dataframe thead th {\n",
       "        text-align: left;\n",
       "    }\n",
       "\n",
       "    .dataframe tbody tr th {\n",
       "        vertical-align: top;\n",
       "    }\n",
       "</style>\n",
       "<table border=\"1\" class=\"dataframe\">\n",
       "  <thead>\n",
       "    <tr style=\"text-align: right;\">\n",
       "      <th></th>\n",
       "      <th>user_name</th>\n",
       "      <th>country</th>\n",
       "      <th>review_title</th>\n",
       "      <th>review_description</th>\n",
       "      <th>designation</th>\n",
       "      <th>points</th>\n",
       "      <th>price</th>\n",
       "      <th>province</th>\n",
       "      <th>region_1</th>\n",
       "      <th>region_2</th>\n",
       "      <th>winery</th>\n",
       "      <th>variety</th>\n",
       "    </tr>\n",
       "  </thead>\n",
       "  <tbody>\n",
       "    <tr>\n",
       "      <th>0</th>\n",
       "      <td>NaN</td>\n",
       "      <td>Australia</td>\n",
       "      <td>Andrew Peace 2007 Peace Family Vineyard Chardo...</td>\n",
       "      <td>Classic Chardonnay aromas of apple, pear and h...</td>\n",
       "      <td>Peace Family Vineyard</td>\n",
       "      <td>83</td>\n",
       "      <td>10.0</td>\n",
       "      <td>Australia Other</td>\n",
       "      <td>South Eastern Australia</td>\n",
       "      <td>NaN</td>\n",
       "      <td>Andrew Peace</td>\n",
       "      <td>Chardonnay</td>\n",
       "    </tr>\n",
       "    <tr>\n",
       "      <th>1</th>\n",
       "      <td>@wawinereport</td>\n",
       "      <td>US</td>\n",
       "      <td>North by Northwest 2014 Red (Columbia Valley (...</td>\n",
       "      <td>This wine is near equal parts Syrah and Merlot...</td>\n",
       "      <td>NaN</td>\n",
       "      <td>89</td>\n",
       "      <td>15.0</td>\n",
       "      <td>Washington</td>\n",
       "      <td>Columbia Valley (WA)</td>\n",
       "      <td>Columbia Valley</td>\n",
       "      <td>North by Northwest</td>\n",
       "      <td>Red Blend</td>\n",
       "    </tr>\n",
       "    <tr>\n",
       "      <th>2</th>\n",
       "      <td>NaN</td>\n",
       "      <td>Italy</td>\n",
       "      <td>Renato Ratti 2007 Conca  (Barolo)</td>\n",
       "      <td>Barolo Conca opens with inky dark concentratio...</td>\n",
       "      <td>Conca</td>\n",
       "      <td>94</td>\n",
       "      <td>80.0</td>\n",
       "      <td>Piedmont</td>\n",
       "      <td>Barolo</td>\n",
       "      <td>NaN</td>\n",
       "      <td>Renato Ratti</td>\n",
       "      <td>Nebbiolo</td>\n",
       "    </tr>\n",
       "    <tr>\n",
       "      <th>3</th>\n",
       "      <td>@vossroger</td>\n",
       "      <td>France</td>\n",
       "      <td>Domaine l'Ancienne Cure 2010 L'Abbaye White (B...</td>\n",
       "      <td>It's impressive what a small addition of Sauvi...</td>\n",
       "      <td>L'Abbaye</td>\n",
       "      <td>87</td>\n",
       "      <td>22.0</td>\n",
       "      <td>Southwest France</td>\n",
       "      <td>Bergerac Sec</td>\n",
       "      <td>NaN</td>\n",
       "      <td>Domaine l'Ancienne Cure</td>\n",
       "      <td>Bordeaux-style White Blend</td>\n",
       "    </tr>\n",
       "    <tr>\n",
       "      <th>4</th>\n",
       "      <td>@vossroger</td>\n",
       "      <td>France</td>\n",
       "      <td>Château du Cèdre 2012 Le Cèdre Vintage Malbec ...</td>\n",
       "      <td>This ripe, sweet wine is rich and full of drie...</td>\n",
       "      <td>Le Cèdre Vintage</td>\n",
       "      <td>88</td>\n",
       "      <td>33.0</td>\n",
       "      <td>France Other</td>\n",
       "      <td>Vin de Liqueur</td>\n",
       "      <td>NaN</td>\n",
       "      <td>Château du Cèdre</td>\n",
       "      <td>Malbec</td>\n",
       "    </tr>\n",
       "  </tbody>\n",
       "</table>\n",
       "</div>"
      ],
      "text/plain": [
       "       user_name    country  \\\n",
       "0            NaN  Australia   \n",
       "1  @wawinereport         US   \n",
       "2            NaN      Italy   \n",
       "3     @vossroger     France   \n",
       "4     @vossroger     France   \n",
       "\n",
       "                                        review_title  \\\n",
       "0  Andrew Peace 2007 Peace Family Vineyard Chardo...   \n",
       "1  North by Northwest 2014 Red (Columbia Valley (...   \n",
       "2                  Renato Ratti 2007 Conca  (Barolo)   \n",
       "3  Domaine l'Ancienne Cure 2010 L'Abbaye White (B...   \n",
       "4  Château du Cèdre 2012 Le Cèdre Vintage Malbec ...   \n",
       "\n",
       "                                  review_description            designation  \\\n",
       "0  Classic Chardonnay aromas of apple, pear and h...  Peace Family Vineyard   \n",
       "1  This wine is near equal parts Syrah and Merlot...                    NaN   \n",
       "2  Barolo Conca opens with inky dark concentratio...                  Conca   \n",
       "3  It's impressive what a small addition of Sauvi...               L'Abbaye   \n",
       "4  This ripe, sweet wine is rich and full of drie...       Le Cèdre Vintage   \n",
       "\n",
       "   points  price          province                 region_1         region_2  \\\n",
       "0      83   10.0   Australia Other  South Eastern Australia              NaN   \n",
       "1      89   15.0        Washington     Columbia Valley (WA)  Columbia Valley   \n",
       "2      94   80.0          Piedmont                   Barolo              NaN   \n",
       "3      87   22.0  Southwest France             Bergerac Sec              NaN   \n",
       "4      88   33.0      France Other           Vin de Liqueur              NaN   \n",
       "\n",
       "                    winery                     variety  \n",
       "0             Andrew Peace                  Chardonnay  \n",
       "1       North by Northwest                   Red Blend  \n",
       "2             Renato Ratti                    Nebbiolo  \n",
       "3  Domaine l'Ancienne Cure  Bordeaux-style White Blend  \n",
       "4         Château du Cèdre                      Malbec  "
      ]
     },
     "execution_count": 3,
     "metadata": {},
     "output_type": "execute_result"
    }
   ],
   "source": [
    "df.head()"
   ]
  },
  {
   "cell_type": "code",
   "execution_count": 4,
   "metadata": {},
   "outputs": [
    {
     "data": {
      "text/plain": [
       "(82657, 12)"
      ]
     },
     "execution_count": 4,
     "metadata": {},
     "output_type": "execute_result"
    }
   ],
   "source": [
    "df.shape"
   ]
  },
  {
   "cell_type": "code",
   "execution_count": 5,
   "metadata": {},
   "outputs": [
    {
     "data": {
      "text/html": [
       "<div>\n",
       "<style>\n",
       "    .dataframe thead tr:only-child th {\n",
       "        text-align: right;\n",
       "    }\n",
       "\n",
       "    .dataframe thead th {\n",
       "        text-align: left;\n",
       "    }\n",
       "\n",
       "    .dataframe tbody tr th {\n",
       "        vertical-align: top;\n",
       "    }\n",
       "</style>\n",
       "<table border=\"1\" class=\"dataframe\">\n",
       "  <thead>\n",
       "    <tr style=\"text-align: right;\">\n",
       "      <th></th>\n",
       "      <th>points</th>\n",
       "      <th>price</th>\n",
       "    </tr>\n",
       "  </thead>\n",
       "  <tbody>\n",
       "    <tr>\n",
       "      <th>count</th>\n",
       "      <td>82657.000000</td>\n",
       "      <td>77088.000000</td>\n",
       "    </tr>\n",
       "    <tr>\n",
       "      <th>mean</th>\n",
       "      <td>88.544564</td>\n",
       "      <td>36.922232</td>\n",
       "    </tr>\n",
       "    <tr>\n",
       "      <th>std</th>\n",
       "      <td>3.099649</td>\n",
       "      <td>43.698346</td>\n",
       "    </tr>\n",
       "    <tr>\n",
       "      <th>min</th>\n",
       "      <td>80.000000</td>\n",
       "      <td>4.000000</td>\n",
       "    </tr>\n",
       "    <tr>\n",
       "      <th>25%</th>\n",
       "      <td>86.000000</td>\n",
       "      <td>18.000000</td>\n",
       "    </tr>\n",
       "    <tr>\n",
       "      <th>50%</th>\n",
       "      <td>88.000000</td>\n",
       "      <td>27.000000</td>\n",
       "    </tr>\n",
       "    <tr>\n",
       "      <th>75%</th>\n",
       "      <td>91.000000</td>\n",
       "      <td>45.000000</td>\n",
       "    </tr>\n",
       "    <tr>\n",
       "      <th>max</th>\n",
       "      <td>100.000000</td>\n",
       "      <td>3300.000000</td>\n",
       "    </tr>\n",
       "  </tbody>\n",
       "</table>\n",
       "</div>"
      ],
      "text/plain": [
       "             points         price\n",
       "count  82657.000000  77088.000000\n",
       "mean      88.544564     36.922232\n",
       "std        3.099649     43.698346\n",
       "min       80.000000      4.000000\n",
       "25%       86.000000     18.000000\n",
       "50%       88.000000     27.000000\n",
       "75%       91.000000     45.000000\n",
       "max      100.000000   3300.000000"
      ]
     },
     "execution_count": 5,
     "metadata": {},
     "output_type": "execute_result"
    }
   ],
   "source": [
    "df.describe()"
   ]
  },
  {
   "cell_type": "code",
   "execution_count": 6,
   "metadata": {},
   "outputs": [
    {
     "data": {
      "text/plain": [
       "user_name             19393\n",
       "country                  35\n",
       "review_title              0\n",
       "review_description        0\n",
       "designation           23647\n",
       "points                    0\n",
       "price                  5569\n",
       "province                 35\n",
       "region_1              12754\n",
       "region_2              46708\n",
       "winery                    0\n",
       "variety                   0\n",
       "dtype: int64"
      ]
     },
     "execution_count": 6,
     "metadata": {},
     "output_type": "execute_result"
    }
   ],
   "source": [
    "df.isnull().sum()"
   ]
  },
  {
   "cell_type": "code",
   "execution_count": 7,
   "metadata": {},
   "outputs": [
    {
     "name": "stdout",
     "output_type": "stream",
     "text": [
      "<class 'pandas.core.frame.DataFrame'>\n",
      "RangeIndex: 82657 entries, 0 to 82656\n",
      "Data columns (total 12 columns):\n",
      "user_name             63264 non-null object\n",
      "country               82622 non-null object\n",
      "review_title          82657 non-null object\n",
      "review_description    82657 non-null object\n",
      "designation           59010 non-null object\n",
      "points                82657 non-null int64\n",
      "price                 77088 non-null float64\n",
      "province              82622 non-null object\n",
      "region_1              69903 non-null object\n",
      "region_2              35949 non-null object\n",
      "winery                82657 non-null object\n",
      "variety               82657 non-null object\n",
      "dtypes: float64(1), int64(1), object(10)\n",
      "memory usage: 7.6+ MB\n"
     ]
    }
   ],
   "source": [
    "df.info()"
   ]
  },
  {
   "cell_type": "code",
   "execution_count": 8,
   "metadata": {},
   "outputs": [
    {
     "data": {
      "text/plain": [
       "user_name                15\n",
       "country                  38\n",
       "review_title          76983\n",
       "review_description    77628\n",
       "designation           26424\n",
       "points                   21\n",
       "price                   351\n",
       "province                358\n",
       "region_1               1019\n",
       "region_2                 17\n",
       "winery                13786\n",
       "variety                  28\n",
       "dtype: int64"
      ]
     },
     "execution_count": 8,
     "metadata": {},
     "output_type": "execute_result"
    }
   ],
   "source": [
    "df.nunique()"
   ]
  },
  {
   "cell_type": "code",
   "execution_count": 9,
   "metadata": {
    "collapsed": true
   },
   "outputs": [],
   "source": [
    "df.drop_duplicates(inplace=True)"
   ]
  },
  {
   "cell_type": "code",
   "execution_count": 10,
   "metadata": {},
   "outputs": [
    {
     "data": {
      "text/plain": [
       "(77641, 12)"
      ]
     },
     "execution_count": 10,
     "metadata": {},
     "output_type": "execute_result"
    }
   ],
   "source": [
    "df.shape"
   ]
  },
  {
   "cell_type": "code",
   "execution_count": 11,
   "metadata": {},
   "outputs": [
    {
     "data": {
      "text/html": [
       "<div>\n",
       "<style>\n",
       "    .dataframe thead tr:only-child th {\n",
       "        text-align: right;\n",
       "    }\n",
       "\n",
       "    .dataframe thead th {\n",
       "        text-align: left;\n",
       "    }\n",
       "\n",
       "    .dataframe tbody tr th {\n",
       "        vertical-align: top;\n",
       "    }\n",
       "</style>\n",
       "<table border=\"1\" class=\"dataframe\">\n",
       "  <thead>\n",
       "    <tr style=\"text-align: right;\">\n",
       "      <th></th>\n",
       "      <th>user_name</th>\n",
       "      <th>country</th>\n",
       "      <th>review_title</th>\n",
       "      <th>review_description</th>\n",
       "      <th>designation</th>\n",
       "      <th>points</th>\n",
       "      <th>price</th>\n",
       "      <th>province</th>\n",
       "      <th>region_1</th>\n",
       "      <th>region_2</th>\n",
       "      <th>winery</th>\n",
       "    </tr>\n",
       "    <tr>\n",
       "      <th>variety</th>\n",
       "      <th></th>\n",
       "      <th></th>\n",
       "      <th></th>\n",
       "      <th></th>\n",
       "      <th></th>\n",
       "      <th></th>\n",
       "      <th></th>\n",
       "      <th></th>\n",
       "      <th></th>\n",
       "      <th></th>\n",
       "      <th></th>\n",
       "    </tr>\n",
       "  </thead>\n",
       "  <tbody>\n",
       "    <tr>\n",
       "      <th>Bordeaux-style Red Blend</th>\n",
       "      <td>4712</td>\n",
       "      <td>5206</td>\n",
       "      <td>5206</td>\n",
       "      <td>5206</td>\n",
       "      <td>2773</td>\n",
       "      <td>5206</td>\n",
       "      <td>3986</td>\n",
       "      <td>5206</td>\n",
       "      <td>5027</td>\n",
       "      <td>1283</td>\n",
       "      <td>5206</td>\n",
       "    </tr>\n",
       "    <tr>\n",
       "      <th>Bordeaux-style White Blend</th>\n",
       "      <td>792</td>\n",
       "      <td>806</td>\n",
       "      <td>806</td>\n",
       "      <td>806</td>\n",
       "      <td>320</td>\n",
       "      <td>806</td>\n",
       "      <td>516</td>\n",
       "      <td>806</td>\n",
       "      <td>800</td>\n",
       "      <td>35</td>\n",
       "      <td>806</td>\n",
       "    </tr>\n",
       "    <tr>\n",
       "      <th>Cabernet Franc</th>\n",
       "      <td>634</td>\n",
       "      <td>1027</td>\n",
       "      <td>1028</td>\n",
       "      <td>1028</td>\n",
       "      <td>641</td>\n",
       "      <td>1028</td>\n",
       "      <td>989</td>\n",
       "      <td>1027</td>\n",
       "      <td>986</td>\n",
       "      <td>648</td>\n",
       "      <td>1028</td>\n",
       "    </tr>\n",
       "    <tr>\n",
       "      <th>Cabernet Sauvignon</th>\n",
       "      <td>4638</td>\n",
       "      <td>7153</td>\n",
       "      <td>7155</td>\n",
       "      <td>7155</td>\n",
       "      <td>4384</td>\n",
       "      <td>7155</td>\n",
       "      <td>7093</td>\n",
       "      <td>7153</td>\n",
       "      <td>6301</td>\n",
       "      <td>5361</td>\n",
       "      <td>7155</td>\n",
       "    </tr>\n",
       "    <tr>\n",
       "      <th>Champagne Blend</th>\n",
       "      <td>958</td>\n",
       "      <td>1075</td>\n",
       "      <td>1075</td>\n",
       "      <td>1075</td>\n",
       "      <td>1073</td>\n",
       "      <td>1075</td>\n",
       "      <td>922</td>\n",
       "      <td>1075</td>\n",
       "      <td>1061</td>\n",
       "      <td>58</td>\n",
       "      <td>1075</td>\n",
       "    </tr>\n",
       "    <tr>\n",
       "      <th>Chardonnay</th>\n",
       "      <td>6416</td>\n",
       "      <td>8833</td>\n",
       "      <td>8836</td>\n",
       "      <td>8836</td>\n",
       "      <td>5910</td>\n",
       "      <td>8836</td>\n",
       "      <td>8324</td>\n",
       "      <td>8833</td>\n",
       "      <td>8044</td>\n",
       "      <td>4775</td>\n",
       "      <td>8836</td>\n",
       "    </tr>\n",
       "    <tr>\n",
       "      <th>Gamay</th>\n",
       "      <td>757</td>\n",
       "      <td>759</td>\n",
       "      <td>759</td>\n",
       "      <td>759</td>\n",
       "      <td>569</td>\n",
       "      <td>759</td>\n",
       "      <td>613</td>\n",
       "      <td>759</td>\n",
       "      <td>751</td>\n",
       "      <td>4</td>\n",
       "      <td>759</td>\n",
       "    </tr>\n",
       "    <tr>\n",
       "      <th>Gewürztraminer</th>\n",
       "      <td>571</td>\n",
       "      <td>791</td>\n",
       "      <td>792</td>\n",
       "      <td>792</td>\n",
       "      <td>546</td>\n",
       "      <td>792</td>\n",
       "      <td>744</td>\n",
       "      <td>791</td>\n",
       "      <td>730</td>\n",
       "      <td>266</td>\n",
       "      <td>792</td>\n",
       "    </tr>\n",
       "    <tr>\n",
       "      <th>Grüner Veltliner</th>\n",
       "      <td>947</td>\n",
       "      <td>976</td>\n",
       "      <td>976</td>\n",
       "      <td>976</td>\n",
       "      <td>865</td>\n",
       "      <td>976</td>\n",
       "      <td>829</td>\n",
       "      <td>976</td>\n",
       "      <td>77</td>\n",
       "      <td>71</td>\n",
       "      <td>976</td>\n",
       "    </tr>\n",
       "    <tr>\n",
       "      <th>Malbec</th>\n",
       "      <td>1921</td>\n",
       "      <td>1985</td>\n",
       "      <td>1985</td>\n",
       "      <td>1985</td>\n",
       "      <td>1507</td>\n",
       "      <td>1985</td>\n",
       "      <td>1944</td>\n",
       "      <td>1985</td>\n",
       "      <td>1852</td>\n",
       "      <td>388</td>\n",
       "      <td>1985</td>\n",
       "    </tr>\n",
       "    <tr>\n",
       "      <th>Merlot</th>\n",
       "      <td>1451</td>\n",
       "      <td>2336</td>\n",
       "      <td>2337</td>\n",
       "      <td>2337</td>\n",
       "      <td>1217</td>\n",
       "      <td>2337</td>\n",
       "      <td>2305</td>\n",
       "      <td>2336</td>\n",
       "      <td>2017</td>\n",
       "      <td>1656</td>\n",
       "      <td>2337</td>\n",
       "    </tr>\n",
       "    <tr>\n",
       "      <th>Nebbiolo</th>\n",
       "      <td>1456</td>\n",
       "      <td>2112</td>\n",
       "      <td>2112</td>\n",
       "      <td>2112</td>\n",
       "      <td>1698</td>\n",
       "      <td>2112</td>\n",
       "      <td>1757</td>\n",
       "      <td>2112</td>\n",
       "      <td>2107</td>\n",
       "      <td>34</td>\n",
       "      <td>2112</td>\n",
       "    </tr>\n",
       "    <tr>\n",
       "      <th>Pinot Grigio</th>\n",
       "      <td>417</td>\n",
       "      <td>820</td>\n",
       "      <td>820</td>\n",
       "      <td>820</td>\n",
       "      <td>302</td>\n",
       "      <td>820</td>\n",
       "      <td>778</td>\n",
       "      <td>820</td>\n",
       "      <td>797</td>\n",
       "      <td>269</td>\n",
       "      <td>820</td>\n",
       "    </tr>\n",
       "    <tr>\n",
       "      <th>Pinot Gris</th>\n",
       "      <td>932</td>\n",
       "      <td>1062</td>\n",
       "      <td>1064</td>\n",
       "      <td>1064</td>\n",
       "      <td>595</td>\n",
       "      <td>1064</td>\n",
       "      <td>1020</td>\n",
       "      <td>1062</td>\n",
       "      <td>975</td>\n",
       "      <td>590</td>\n",
       "      <td>1064</td>\n",
       "    </tr>\n",
       "    <tr>\n",
       "      <th>Pinot Noir</th>\n",
       "      <td>7525</td>\n",
       "      <td>9963</td>\n",
       "      <td>9966</td>\n",
       "      <td>9966</td>\n",
       "      <td>7454</td>\n",
       "      <td>9966</td>\n",
       "      <td>9610</td>\n",
       "      <td>9963</td>\n",
       "      <td>9126</td>\n",
       "      <td>6812</td>\n",
       "      <td>9966</td>\n",
       "    </tr>\n",
       "    <tr>\n",
       "      <th>Portuguese Red</th>\n",
       "      <td>1843</td>\n",
       "      <td>1843</td>\n",
       "      <td>1843</td>\n",
       "      <td>1843</td>\n",
       "      <td>1717</td>\n",
       "      <td>1843</td>\n",
       "      <td>1645</td>\n",
       "      <td>1843</td>\n",
       "      <td>0</td>\n",
       "      <td>0</td>\n",
       "      <td>1843</td>\n",
       "    </tr>\n",
       "    <tr>\n",
       "      <th>Portuguese White</th>\n",
       "      <td>835</td>\n",
       "      <td>835</td>\n",
       "      <td>835</td>\n",
       "      <td>835</td>\n",
       "      <td>778</td>\n",
       "      <td>835</td>\n",
       "      <td>714</td>\n",
       "      <td>835</td>\n",
       "      <td>0</td>\n",
       "      <td>0</td>\n",
       "      <td>835</td>\n",
       "    </tr>\n",
       "    <tr>\n",
       "      <th>Red Blend</th>\n",
       "      <td>5201</td>\n",
       "      <td>6721</td>\n",
       "      <td>6729</td>\n",
       "      <td>6729</td>\n",
       "      <td>5644</td>\n",
       "      <td>6729</td>\n",
       "      <td>6373</td>\n",
       "      <td>6721</td>\n",
       "      <td>5996</td>\n",
       "      <td>2059</td>\n",
       "      <td>6729</td>\n",
       "    </tr>\n",
       "    <tr>\n",
       "      <th>Rhône-style Red Blend</th>\n",
       "      <td>967</td>\n",
       "      <td>1102</td>\n",
       "      <td>1102</td>\n",
       "      <td>1102</td>\n",
       "      <td>902</td>\n",
       "      <td>1102</td>\n",
       "      <td>1053</td>\n",
       "      <td>1102</td>\n",
       "      <td>1082</td>\n",
       "      <td>507</td>\n",
       "      <td>1102</td>\n",
       "    </tr>\n",
       "    <tr>\n",
       "      <th>Riesling</th>\n",
       "      <td>2058</td>\n",
       "      <td>3876</td>\n",
       "      <td>3877</td>\n",
       "      <td>3877</td>\n",
       "      <td>3284</td>\n",
       "      <td>3877</td>\n",
       "      <td>3720</td>\n",
       "      <td>3876</td>\n",
       "      <td>1991</td>\n",
       "      <td>1199</td>\n",
       "      <td>3877</td>\n",
       "    </tr>\n",
       "    <tr>\n",
       "      <th>Rosé</th>\n",
       "      <td>2294</td>\n",
       "      <td>2606</td>\n",
       "      <td>2607</td>\n",
       "      <td>2607</td>\n",
       "      <td>1829</td>\n",
       "      <td>2607</td>\n",
       "      <td>2386</td>\n",
       "      <td>2606</td>\n",
       "      <td>2258</td>\n",
       "      <td>596</td>\n",
       "      <td>2607</td>\n",
       "    </tr>\n",
       "    <tr>\n",
       "      <th>Sangiovese</th>\n",
       "      <td>1460</td>\n",
       "      <td>2006</td>\n",
       "      <td>2006</td>\n",
       "      <td>2006</td>\n",
       "      <td>1148</td>\n",
       "      <td>2006</td>\n",
       "      <td>1751</td>\n",
       "      <td>2006</td>\n",
       "      <td>2000</td>\n",
       "      <td>282</td>\n",
       "      <td>2006</td>\n",
       "    </tr>\n",
       "    <tr>\n",
       "      <th>Sauvignon Blanc</th>\n",
       "      <td>2955</td>\n",
       "      <td>3748</td>\n",
       "      <td>3752</td>\n",
       "      <td>3752</td>\n",
       "      <td>2168</td>\n",
       "      <td>3752</td>\n",
       "      <td>3612</td>\n",
       "      <td>3748</td>\n",
       "      <td>2498</td>\n",
       "      <td>1476</td>\n",
       "      <td>3752</td>\n",
       "    </tr>\n",
       "    <tr>\n",
       "      <th>Sparkling Blend</th>\n",
       "      <td>1233</td>\n",
       "      <td>1621</td>\n",
       "      <td>1621</td>\n",
       "      <td>1621</td>\n",
       "      <td>1588</td>\n",
       "      <td>1621</td>\n",
       "      <td>1522</td>\n",
       "      <td>1621</td>\n",
       "      <td>1479</td>\n",
       "      <td>469</td>\n",
       "      <td>1621</td>\n",
       "    </tr>\n",
       "    <tr>\n",
       "      <th>Syrah</th>\n",
       "      <td>2336</td>\n",
       "      <td>3117</td>\n",
       "      <td>3117</td>\n",
       "      <td>3117</td>\n",
       "      <td>2304</td>\n",
       "      <td>3117</td>\n",
       "      <td>3075</td>\n",
       "      <td>3117</td>\n",
       "      <td>2759</td>\n",
       "      <td>2371</td>\n",
       "      <td>3117</td>\n",
       "    </tr>\n",
       "    <tr>\n",
       "      <th>Tempranillo</th>\n",
       "      <td>1317</td>\n",
       "      <td>1364</td>\n",
       "      <td>1365</td>\n",
       "      <td>1365</td>\n",
       "      <td>1106</td>\n",
       "      <td>1365</td>\n",
       "      <td>1345</td>\n",
       "      <td>1364</td>\n",
       "      <td>1351</td>\n",
       "      <td>226</td>\n",
       "      <td>1365</td>\n",
       "    </tr>\n",
       "    <tr>\n",
       "      <th>White Blend</th>\n",
       "      <td>1271</td>\n",
       "      <td>1774</td>\n",
       "      <td>1779</td>\n",
       "      <td>1779</td>\n",
       "      <td>1562</td>\n",
       "      <td>1779</td>\n",
       "      <td>1643</td>\n",
       "      <td>1774</td>\n",
       "      <td>1525</td>\n",
       "      <td>413</td>\n",
       "      <td>1779</td>\n",
       "    </tr>\n",
       "    <tr>\n",
       "      <th>Zinfandel</th>\n",
       "      <td>1208</td>\n",
       "      <td>2091</td>\n",
       "      <td>2091</td>\n",
       "      <td>2091</td>\n",
       "      <td>1574</td>\n",
       "      <td>2091</td>\n",
       "      <td>2087</td>\n",
       "      <td>2091</td>\n",
       "      <td>2090</td>\n",
       "      <td>1966</td>\n",
       "      <td>2091</td>\n",
       "    </tr>\n",
       "  </tbody>\n",
       "</table>\n",
       "</div>"
      ],
      "text/plain": [
       "                            user_name  country  review_title  \\\n",
       "variety                                                        \n",
       "Bordeaux-style Red Blend         4712     5206          5206   \n",
       "Bordeaux-style White Blend        792      806           806   \n",
       "Cabernet Franc                    634     1027          1028   \n",
       "Cabernet Sauvignon               4638     7153          7155   \n",
       "Champagne Blend                   958     1075          1075   \n",
       "Chardonnay                       6416     8833          8836   \n",
       "Gamay                             757      759           759   \n",
       "Gewürztraminer                    571      791           792   \n",
       "Grüner Veltliner                  947      976           976   \n",
       "Malbec                           1921     1985          1985   \n",
       "Merlot                           1451     2336          2337   \n",
       "Nebbiolo                         1456     2112          2112   \n",
       "Pinot Grigio                      417      820           820   \n",
       "Pinot Gris                        932     1062          1064   \n",
       "Pinot Noir                       7525     9963          9966   \n",
       "Portuguese Red                   1843     1843          1843   \n",
       "Portuguese White                  835      835           835   \n",
       "Red Blend                        5201     6721          6729   \n",
       "Rhône-style Red Blend             967     1102          1102   \n",
       "Riesling                         2058     3876          3877   \n",
       "Rosé                             2294     2606          2607   \n",
       "Sangiovese                       1460     2006          2006   \n",
       "Sauvignon Blanc                  2955     3748          3752   \n",
       "Sparkling Blend                  1233     1621          1621   \n",
       "Syrah                            2336     3117          3117   \n",
       "Tempranillo                      1317     1364          1365   \n",
       "White Blend                      1271     1774          1779   \n",
       "Zinfandel                        1208     2091          2091   \n",
       "\n",
       "                            review_description  designation  points  price  \\\n",
       "variety                                                                      \n",
       "Bordeaux-style Red Blend                  5206         2773    5206   3986   \n",
       "Bordeaux-style White Blend                 806          320     806    516   \n",
       "Cabernet Franc                            1028          641    1028    989   \n",
       "Cabernet Sauvignon                        7155         4384    7155   7093   \n",
       "Champagne Blend                           1075         1073    1075    922   \n",
       "Chardonnay                                8836         5910    8836   8324   \n",
       "Gamay                                      759          569     759    613   \n",
       "Gewürztraminer                             792          546     792    744   \n",
       "Grüner Veltliner                           976          865     976    829   \n",
       "Malbec                                    1985         1507    1985   1944   \n",
       "Merlot                                    2337         1217    2337   2305   \n",
       "Nebbiolo                                  2112         1698    2112   1757   \n",
       "Pinot Grigio                               820          302     820    778   \n",
       "Pinot Gris                                1064          595    1064   1020   \n",
       "Pinot Noir                                9966         7454    9966   9610   \n",
       "Portuguese Red                            1843         1717    1843   1645   \n",
       "Portuguese White                           835          778     835    714   \n",
       "Red Blend                                 6729         5644    6729   6373   \n",
       "Rhône-style Red Blend                     1102          902    1102   1053   \n",
       "Riesling                                  3877         3284    3877   3720   \n",
       "Rosé                                      2607         1829    2607   2386   \n",
       "Sangiovese                                2006         1148    2006   1751   \n",
       "Sauvignon Blanc                           3752         2168    3752   3612   \n",
       "Sparkling Blend                           1621         1588    1621   1522   \n",
       "Syrah                                     3117         2304    3117   3075   \n",
       "Tempranillo                               1365         1106    1365   1345   \n",
       "White Blend                               1779         1562    1779   1643   \n",
       "Zinfandel                                 2091         1574    2091   2087   \n",
       "\n",
       "                            province  region_1  region_2  winery  \n",
       "variety                                                           \n",
       "Bordeaux-style Red Blend        5206      5027      1283    5206  \n",
       "Bordeaux-style White Blend       806       800        35     806  \n",
       "Cabernet Franc                  1027       986       648    1028  \n",
       "Cabernet Sauvignon              7153      6301      5361    7155  \n",
       "Champagne Blend                 1075      1061        58    1075  \n",
       "Chardonnay                      8833      8044      4775    8836  \n",
       "Gamay                            759       751         4     759  \n",
       "Gewürztraminer                   791       730       266     792  \n",
       "Grüner Veltliner                 976        77        71     976  \n",
       "Malbec                          1985      1852       388    1985  \n",
       "Merlot                          2336      2017      1656    2337  \n",
       "Nebbiolo                        2112      2107        34    2112  \n",
       "Pinot Grigio                     820       797       269     820  \n",
       "Pinot Gris                      1062       975       590    1064  \n",
       "Pinot Noir                      9963      9126      6812    9966  \n",
       "Portuguese Red                  1843         0         0    1843  \n",
       "Portuguese White                 835         0         0     835  \n",
       "Red Blend                       6721      5996      2059    6729  \n",
       "Rhône-style Red Blend           1102      1082       507    1102  \n",
       "Riesling                        3876      1991      1199    3877  \n",
       "Rosé                            2606      2258       596    2607  \n",
       "Sangiovese                      2006      2000       282    2006  \n",
       "Sauvignon Blanc                 3748      2498      1476    3752  \n",
       "Sparkling Blend                 1621      1479       469    1621  \n",
       "Syrah                           3117      2759      2371    3117  \n",
       "Tempranillo                     1364      1351       226    1365  \n",
       "White Blend                     1774      1525       413    1779  \n",
       "Zinfandel                       2091      2090      1966    2091  "
      ]
     },
     "execution_count": 11,
     "metadata": {},
     "output_type": "execute_result"
    }
   ],
   "source": [
    "df.groupby(['variety']).count()"
   ]
  },
  {
   "cell_type": "markdown",
   "metadata": {},
   "source": [
    "### Part 1 (Analysis)"
   ]
  },
  {
   "cell_type": "code",
   "execution_count": 12,
   "metadata": {},
   "outputs": [
    {
     "data": {
      "text/plain": [
       "<matplotlib.axes._subplots.AxesSubplot at 0x213497199e8>"
      ]
     },
     "execution_count": 12,
     "metadata": {},
     "output_type": "execute_result"
    },
    {
     "data": {
      "image/png": "[encoded data removed]",
      "text/plain": [
       "<matplotlib.figure.Figure at 0x2134d906fd0>"
      ]
     },
     "metadata": {},
     "output_type": "display_data"
    }
   ],
   "source": [
    "df[df['price'] < 500].plot.scatter(x='price', y='points')"
   ]
  },
  {
   "cell_type": "markdown",
   "metadata": {},
   "source": [
    "This plot shows us that more expensive wines do generally earn more points when reviewed."
   ]
  },
  {
   "cell_type": "code",
   "execution_count": 13,
   "metadata": {},
   "outputs": [
    {
     "data": {
      "text/plain": [
       "<matplotlib.axes._subplots.AxesSubplot at 0x213486b1a20>"
      ]
     },
     "execution_count": 13,
     "metadata": {},
     "output_type": "execute_result"
    },
    {
     "data": {
      "image/png": "[encoded data removed]",
      "text/plain": [
       "<matplotlib.figure.Figure at 0x213447b1128>"
      ]
     },
     "metadata": {},
     "output_type": "display_data"
    }
   ],
   "source": [
    "sns.countplot(df['points'])"
   ]
  },
  {
   "cell_type": "code",
   "execution_count": 14,
   "metadata": {},
   "outputs": [
    {
     "data": {
      "text/plain": [
       "<matplotlib.axes._subplots.AxesSubplot at 0x2134aeafef0>"
      ]
     },
     "execution_count": 14,
     "metadata": {},
     "output_type": "execute_result"
    },
    {
     "data": {
      "image/png": "[encoded data removed]",
      "text/plain": [
       "<matplotlib.figure.Figure at 0x21348e07550>"
      ]
     },
     "metadata": {},
     "output_type": "display_data"
    }
   ],
   "source": [
    "df[df['price'] < 200]['price'].value_counts().sort_index().plot.line()"
   ]
  },
  {
   "cell_type": "markdown",
   "metadata": {},
   "source": [
    "Now, plotting boxplots having top 10 varieties of wines with points."
   ]
  },
  {
   "cell_type": "code",
   "execution_count": 15,
   "metadata": {},
   "outputs": [
    {
     "data": {
      "text/plain": [
       "<matplotlib.axes._subplots.AxesSubplot at 0x21348e5b4e0>"
      ]
     },
     "execution_count": 15,
     "metadata": {},
     "output_type": "execute_result"
    },
    {
     "data": {
      "image/png": "[encoded data removed]",
      "text/plain": [
       "<matplotlib.figure.Figure at 0x21348e072e8>"
      ]
     },
     "metadata": {},
     "output_type": "display_data"
    }
   ],
   "source": [
    "dff = df[df.variety.isin(df.variety.value_counts().head(10).index)]\n",
    "sns.set(rc={'figure.figsize':(18,6)})\n",
    "sns.boxplot(x='variety',y='points',data=dff)"
   ]
  },
  {
   "cell_type": "markdown",
   "metadata": {},
   "source": [
    "Let's now plot subplots showing counts of **points , price , variety , province**."
   ]
  },
  {
   "cell_type": "code",
   "execution_count": 16,
   "metadata": {},
   "outputs": [
    {
     "data": {
      "text/plain": [
       "Text(0.5,1,'Wine Origins')"
      ]
     },
     "execution_count": 16,
     "metadata": {},
     "output_type": "execute_result"
    },
    {
     "data": {
      "image/png": "[encoded data removed]",
      "text/plain": [
       "<matplotlib.figure.Figure at 0x21349203f28>"
      ]
     },
     "metadata": {},
     "output_type": "display_data"
    }
   ],
   "source": [
    "fig, ax = plt.subplots(2, 2, figsize=(14, 10))\n",
    "\n",
    "df['points'].value_counts().sort_index().plot.bar(ax=ax[0][0], fontsize=12, color='mediumorchid')\n",
    "ax[0][0].set_title(\"Wine Scores\", fontsize=18)\n",
    "\n",
    "df['price'].value_counts().plot.hist(ax=ax[0][1], fontsize=12, color='mediumorchid')\n",
    "ax[0][1].set_title(\"Wine Prices\", fontsize=18)\n",
    "\n",
    "df['variety'].value_counts().head(20).plot.bar(ax=ax[1][0], fontsize=12, color='mediumorchid')\n",
    "ax[1][0].set_title(\"Wine Varieties\", fontsize=18)\n",
    "\n",
    "df['province'].value_counts().head(20).plot.bar(ax=ax[1][1], fontsize=12, color='mediumorchid')\n",
    "ax[1][1].set_title(\"Wine Origins\", fontsize=18)\n",
    "\n"
   ]
  },
  {
   "cell_type": "markdown",
   "metadata": {},
   "source": [
    "### Part 2 (Predictive Modeling )"
   ]
  },
  {
   "cell_type": "code",
   "execution_count": 17,
   "metadata": {
    "collapsed": true
   },
   "outputs": [],
   "source": [
    "from nltk.corpus import stopwords\n",
    "from sklearn.preprocessing import LabelEncoder\n",
    "from sklearn.feature_extraction.text import CountVectorizer\n",
    "from sklearn.model_selection import train_test_split\n",
    "from nltk.tokenize import word_tokenize, sent_tokenize\n",
    "from nltk.corpus import stopwords\n",
    "from nltk.stem.snowball import SnowballStemmer\n",
    "from sklearn.feature_extraction.text import TfidfVectorizer\n",
    "from sklearn.cluster import KMeans\n",
    "import re\n",
    "sw = stopwords.words('english')"
   ]
  },
  {
   "cell_type": "code",
   "execution_count": 18,
   "metadata": {
    "collapsed": true
   },
   "outputs": [],
   "source": [
    "df['variety']=df['variety'].str.lower()"
   ]
  },
  {
   "cell_type": "markdown",
   "metadata": {},
   "source": [
    "Label Encoding the variety column using LabelEncoder."
   ]
  },
  {
   "cell_type": "code",
   "execution_count": 19,
   "metadata": {},
   "outputs": [],
   "source": [
    "le = LabelEncoder()\n",
    "\n",
    "output = le.fit_transform(df['variety'])"
   ]
  },
  {
   "cell_type": "code",
   "execution_count": 20,
   "metadata": {
    "collapsed": true
   },
   "outputs": [],
   "source": [
    "data = df['review_description'].str.lower()"
   ]
  },
  {
   "cell_type": "markdown",
   "metadata": {},
   "source": [
    "Using TF-IDF vectorizer to convert words to Vector Space."
   ]
  },
  {
   "cell_type": "code",
   "execution_count": 21,
   "metadata": {
    "collapsed": true
   },
   "outputs": [],
   "source": [
    "tfidf_vectorizer = TfidfVectorizer(use_idf=True,stop_words='english')\n",
    "\n",
    "tfidf_matrix = tfidf_vectorizer.fit_transform(data) "
   ]
  },
  {
   "cell_type": "markdown",
   "metadata": {},
   "source": [
    "Implementing different models and checking thier accuracies."
   ]
  },
  {
   "cell_type": "code",
   "execution_count": 22,
   "metadata": {
    "collapsed": true
   },
   "outputs": [],
   "source": [
    "from sklearn.linear_model import LogisticRegression\n",
    "from sklearn.metrics import accuracy_score"
   ]
  },
  {
   "cell_type": "code",
   "execution_count": 23,
   "metadata": {
    "collapsed": true
   },
   "outputs": [],
   "source": [
    "x_train, x_test, y_train, y_test = train_test_split(tfidf_matrix, output, test_size=0.2, random_state=5)"
   ]
  },
  {
   "cell_type": "code",
   "execution_count": 24,
   "metadata": {
    "collapsed": true
   },
   "outputs": [],
   "source": [
    "LR = LogisticRegression()\n",
    "\n",
    "LR.fit(x_train,y_train)\n",
    "\n",
    "pred = LR.predict(x_test)"
   ]
  },
  {
   "cell_type": "code",
   "execution_count": 25,
   "metadata": {},
   "outputs": [
    {
     "data": {
      "text/plain": [
       "0.68021121772168203"
      ]
     },
     "execution_count": 25,
     "metadata": {},
     "output_type": "execute_result"
    }
   ],
   "source": [
    "accuracy_score(y_test, pred)"
   ]
  },
  {
   "cell_type": "markdown",
   "metadata": {},
   "source": [
    "Let's tune C parameter in the Logistic Regression."
   ]
  },
  {
   "cell_type": "code",
   "execution_count": 26,
   "metadata": {
    "collapsed": true
   },
   "outputs": [],
   "source": [
    "C_param_range = [0.001,0.01,0.1,1,10,100]\n",
    "pred_score = []\n",
    "for i in C_param_range:\n",
    "    \n",
    "    lr = LogisticRegression( C = i,random_state = 0)\n",
    "    lr.fit(x_train,y_train)\n",
    "    \n",
    "    predic = lr.predict(x_test)\n",
    "    \n",
    "    pred_score.append(accuracy_score(y_test, predic))"
   ]
  },
  {
   "cell_type": "code",
   "execution_count": 27,
   "metadata": {},
   "outputs": [
    {
     "data": {
      "text/plain": [
       "[0.19544078820271749,\n",
       " 0.36396419602034902,\n",
       " 0.55476849764955893,\n",
       " 0.68021121772168203,\n",
       " 0.693669907914225,\n",
       " 0.65245669392749051]"
      ]
     },
     "execution_count": 27,
     "metadata": {},
     "output_type": "execute_result"
    }
   ],
   "source": [
    "pred_score"
   ]
  },
  {
   "cell_type": "code",
   "execution_count": 28,
   "metadata": {
    "collapsed": true
   },
   "outputs": [],
   "source": [
    "from sklearn.ensemble import RandomForestClassifier"
   ]
  },
  {
   "cell_type": "code",
   "execution_count": 29,
   "metadata": {},
   "outputs": [
    {
     "data": {
      "text/plain": [
       "0.62199755296541959"
      ]
     },
     "execution_count": 29,
     "metadata": {},
     "output_type": "execute_result"
    }
   ],
   "source": [
    "model = RandomForestClassifier(n_estimators=100,max_features = 'sqrt')\n",
    "model.fit(x_train,y_train)\n",
    "pred = model.predict(x_test)\n",
    "accuracy_score(y_test, pred)"
   ]
  },
  {
   "cell_type": "markdown",
   "metadata": {
    "collapsed": true
   },
   "source": [
    "I have tried 2 more algos but didn't attached the code because of memory issues.\n",
    "\n",
    "So, the best accuracy we got from __Logistic Regression__ with C_parameter value equals to 10.\n",
    "Let's train the model & start predicting."
   ]
  },
  {
   "cell_type": "code",
   "execution_count": 30,
   "metadata": {},
   "outputs": [
    {
     "data": {
      "text/plain": [
       "0.693669907914225"
      ]
     },
     "execution_count": 30,
     "metadata": {},
     "output_type": "execute_result"
    }
   ],
   "source": [
    "LR = LogisticRegression(C=10,random_state = 2)\n",
    "\n",
    "LR.fit(x_train,y_train)\n",
    "LR_pred = LR.predict(x_test)\n",
    "accuracy_score(y_test, LR_pred)"
   ]
  },
  {
   "cell_type": "code",
   "execution_count": 31,
   "metadata": {},
   "outputs": [],
   "source": [
    "df_test = pd.read_csv(r'...\\Data\\test.csv')"
   ]
  },
  {
   "cell_type": "code",
   "execution_count": 32,
   "metadata": {},
   "outputs": [],
   "source": [
    "test_data = df['review_description'].str.lower()\n",
    "tfidf_vectorizer = TfidfVectorizer(use_idf=True,stop_words='english')\n",
    "tfidf_matrix_test = tfidf_vectorizer.fit_transform(test_data)\n",
    "LR_pred_test = LR.predict(tfidf_matrix_test)"
   ]
  },
  {
   "cell_type": "markdown",
   "metadata": {},
   "source": [
    "## Insights from the Data\n",
    "\n",
    "* Average rating of wines is about 88 whereas minimim rating is 80.\n",
    "* There are 28 varieties of wines.\n",
    "* Top wine variety is Pinot Noir followed by Chardonnay.\n",
    "* California tops the wine origins chart with a count of 24275."
   ]
  },
  {
   "cell_type": "markdown",
   "metadata": {},
   "source": [
    "## Summary"
   ]
  },
  {
   "cell_type": "markdown",
   "metadata": {},
   "source": [
    "In this dataset, we have predicted the wine varieties by using reviews description.\n",
    "At first, we clean the data, then analysis was done through visualization techniques using matplotlib & seaborn.\n",
    "\n",
    "After implementing various algorithms, highest accuracy was achieved by **Logistic Regression** (**69.3 %**) in the training data.  \n",
    "The accuracy can be increased further by using Deep Learning models."
   ]
  },
  {
   "cell_type": "code",
   "execution_count": null,
   "metadata": {
    "collapsed": true
   },
   "outputs": [],
   "source": []
  }
 ],
 "metadata": {
  "kernelspec": {
   "display_name": "Python 3",
   "language": "python",
   "name": "python3"
  },
  "language_info": {
   "codemirror_mode": {
    "name": "ipython",
    "version": 3
   },
   "file_extension": ".py",
   "mimetype": "text/x-python",
   "name": "python",
   "nbconvert_exporter": "python",
   "pygments_lexer": "ipython3",
   "version": "3.6.3"
  }
 },
 "nbformat": 4,
 "nbformat_minor": 2
}
